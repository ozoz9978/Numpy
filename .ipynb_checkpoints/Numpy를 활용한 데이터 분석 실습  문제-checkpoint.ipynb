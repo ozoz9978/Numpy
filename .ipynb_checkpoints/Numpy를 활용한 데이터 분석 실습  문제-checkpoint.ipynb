{
 "cells": [
  {
   "cell_type": "markdown",
   "metadata": {},
   "source": [
    "# [문제] BMI 지수 계산 및 과체중 이상인 BMI 값 확인\n",
    "- 10명에 대한 키와 몸무게가 들어있는 'height_weight.txt'를 읽어 각 사람별 BMI 지수를 구하고 비만 전단계 이상인 BMI 값 확인하기\n",
    "\n",
    "<pre>\n",
    " BMI 지수 = 몸무게(kg) / 키(M)의 제곱\n",
    " 체질량지수의 범위 값에 따른 비만도 값 지정\n",
    " 18.5 미만 ▶ 저체중\n",
    " 18.5 ~ 22.9 ▶ 정상\n",
    " 23 ~ 24.9 ▶ 비만 전단계\n",
    " 25 ~ 29 ▶ 1단계 비만\n",
    " 30 ~ 34.9 ▶ 2단계 비만\n",
    " 35이상 ▶ 고도비만\n",
    "</pre>"
   ]
  },
  {
   "cell_type": "code",
   "execution_count": null,
   "metadata": {},
   "outputs": [],
   "source": [
    "import numpy as np\n",
    "\n",
    "# 데이터 로딩\n",
    "data = np.loadtxt('height_weight.txt', delimiter=',', dtype=float)\n",
    "print(data)"
   ]
  },
  {
   "cell_type": "markdown",
   "metadata": {},
   "source": [
    "# [문제] 국가건강검진 혈압혈당 데이터 분석\n",
    "\n",
    "* '국가건강검진_혈압혈당데이터.csv' 파일 내용을 읽기\n",
    "    - 성별: 1(남자), 2(여자)\n",
    "    - 연령그룹: 1(20-24), 2(25-26),...25-74세까지 2살 간격으로 1개 그룹으로 지정, 27(74세 이상)\n",
    "    - 고혈압 당뇨병 진료여부: 1(고혈압 및 당뇨진료내역 있음), 2(고혈압 진료내역 있음), 3(당뇨 진료내역 있음), 4(고혈압 및 당뇨 진료내역 없음)\n",
    "    - 정상혈압: 수축기 혈압 120nnHg 미만, 확장기 혈압 80mmHg 미만\n",
    "    - 공복혈당 수치: 126 mg/dL 이상 -> 당뇨병, 100mg/dL-> 정상\n",
    "* 전체 레코드 수와 상위 5개 데이터 확인\n",
    "* 데이터 모양 확인\n",
    "* 여성과 남성의 데이터 수 확인\n",
    "* 여성과 남성의 수축기혈압과 이완기혈압의 평균값 확인\n",
    "* 정상 혈압 남자 및 여자 수 확인\n",
    "* 당뇨병 질환(공복혈당 수치 126mg/dL 이상)을 가지고 있는 사람들의 평균 체질량지수"
   ]
  },
  {
   "cell_type": "code",
   "execution_count": null,
   "metadata": {},
   "outputs": [],
   "source": [
    "import numpy as np\n",
    "\n",
    "# 데이터 로드\n",
    "data = np.loadtxt(\"국가건강검진_혈압혈당데이터.csv\", delimiter=\",\", skiprows=1)\n",
    "print(data)"
   ]
  },
  {
   "cell_type": "markdown",
   "metadata": {},
   "source": [
    "# [문제] 시에틀 강수량 데이터 분석\n",
    "- 'Seattle2014.csv' 파일 내용 읽기\n",
    "- 강수량('PRCP')이 많은 날 상위 10일 확인\n",
    "- 1월 강수량만 출력\n",
    "- 1월에 내린 강수량의 합, 평균강수량 확인\n",
    "- 1년동안 강수량이 40미만으로 내린 날이 몇일인가?"
   ]
  },
  {
   "cell_type": "code",
   "execution_count": null,
   "metadata": {},
   "outputs": [],
   "source": [
    "import numpy as np\n",
    "\n",
    "# 데이터 로드\n",
    "data = np.loadtxt(\"Seattle2014.csv\", delimiter=\",\", dtype=object, skiprows=1)\n",
    "print(data[:5,])"
   ]
  },
  {
   "cell_type": "markdown",
   "metadata": {},
   "source": [
    "# [문제] 영화 평점 분석\n",
    "- 'ratings.dat' 파일 내용 읽기 (데이터 형식: user_id::item_id::rating::timestamp)\n",
    "- 상위 10개 데이터 출력하기\n",
    "- 데이터 정보 확인(크기, 차원)\n",
    "- 전체 데이터 평점 구하기\n",
    "- 사용자 아이디 1인 데이터 출력하기\n",
    "- 사용자 아이디 1인 사람의 평점 평균 구하기\n",
    "- 각 사용자별 평점 구하기 (사용자 ID 수집: ID컬럼에 대한 np.unique() 함수 적용)\n",
    "- 각 사용자별 평균 평점이 4점 이상인 사용자 및 인원수 구하기"
   ]
  },
  {
   "cell_type": "code",
   "execution_count": null,
   "metadata": {},
   "outputs": [],
   "source": [
    "import numpy as np\n",
    "\n",
    "# 상위 10개 데이터 출력하기\n",
    "data = np.loadtxt('ratings.dat', delimiter=':', dtype=np.int64)\n",
    "print(data[:10])"
   ]
  }
 ],
 "metadata": {
  "kernelspec": {
   "display_name": "Python 3 (ipykernel)",
   "language": "python",
   "name": "python3"
  },
  "language_info": {
   "codemirror_mode": {
    "name": "ipython",
    "version": 3
   },
   "file_extension": ".py",
   "mimetype": "text/x-python",
   "name": "python",
   "nbconvert_exporter": "python",
   "pygments_lexer": "ipython3",
   "version": "3.11.4"
  },
  "toc": {
   "base_numbering": 1,
   "nav_menu": {},
   "number_sections": true,
   "sideBar": true,
   "skip_h1_title": false,
   "title_cell": "Table of Contents",
   "title_sidebar": "Contents",
   "toc_cell": false,
   "toc_position": {
    "height": "calc(100% - 180px)",
    "left": "10px",
    "top": "150px",
    "width": "236px"
   },
   "toc_section_display": true,
   "toc_window_display": false
  }
 },
 "nbformat": 4,
 "nbformat_minor": 4
}
