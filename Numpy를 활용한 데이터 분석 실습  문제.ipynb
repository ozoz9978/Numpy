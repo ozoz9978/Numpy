{
 "cells": [
  {
   "cell_type": "markdown",
   "metadata": {},
   "source": [
    "# [문제] BMI 지수 계산 및 과체중 이상인 BMI 값 확인\n",
    "- 10명에 대한 키와 몸무게가 들어있는 'height_weight.txt'를 읽어 각 사람별 BMI 지수를 구하고 비만 전단계 이상인 BMI 값 확인하기\n",
    "\n",
    "<pre>\n",
    " BMI 지수 = 몸무게(kg) / 키(M)의 제곱\n",
    " 체질량지수의 범위 값에 따른 비만도 값 지정\n",
    " 18.5 미만 ▶ 저체중\n",
    " 18.5 ~ 22.9 ▶ 정상\n",
    " 23 ~ 24.9 ▶ 비만 전단계\n",
    " 25 ~ 29 ▶ 1단계 비만\n",
    " 30 ~ 34.9 ▶ 2단계 비만\n",
    " 35이상 ▶ 고도비만\n",
    "</pre>"
   ]
  },
  {
   "cell_type": "code",
   "execution_count": 11,
   "metadata": {},
   "outputs": [
    {
     "name": "stdout",
     "output_type": "stream",
     "text": [
      "[27.07018468 25.86122449 25.59220998]\n"
     ]
    }
   ],
   "source": [
    "import numpy as np\n",
    "data = np.loadtxt('height_weight.txt', delimiter=',',dtype='float' )\n",
    "weight = data[1]\n",
    "height = data[0]\n",
    "bmi = weight/((height/100)**2)\n",
    "print( bmi[bmi>=25] )"
   ]
  },
  {
   "cell_type": "code",
   "execution_count": 19,
   "metadata": {},
   "outputs": [
    {
     "name": "stdout",
     "output_type": "stream",
     "text": [
      "[27.07018468 25.86122449 25.59220998]\n"
     ]
    }
   ],
   "source": [
    "import numpy as np\n",
    "\n",
    "# 데이터 로딩\n",
    "data = np.loadtxt('height_weight.txt', delimiter=',', dtype=float)\n",
    "data [1]\n",
    "weight = data[1]\n",
    "height = (data[0]/100)\n",
    "squared_height = height ** 2\n",
    "bmi = weight / squared_height\n",
    "print(bmi[bmi>=25])"
   ]
  },
  {
   "cell_type": "markdown",
   "metadata": {},
   "source": [
    "# [문제] 국가건강검진 혈압혈당 데이터 분석\n",
    "\n",
    "* '국가건강검진_혈압혈당데이터.csv' 파일 내용을 읽기\n",
    "    - 성별: 1(남자), 2(여자)\n",
    "    - 연령그룹: 1(20-24), 2(25-26),...25-74세까지 2살 간격으로 1개 그룹으로 지정, 27(74세 이상)\n",
    "    - 고혈압 당뇨병 진료여부: 1(고혈압 및 당뇨진료내역 있음), 2(고혈압 진료내역 있음), 3(당뇨 진료내역 있음), 4(고혈압 및 당뇨 진료내역 없음)\n",
    "    - 정상혈압: 수축기 혈압 120nnHg 미만, 확장기 혈압 80mmHg 미만\n",
    "    - 공복혈당 수치: 126 mg/dL 이상 -> 당뇨병, 100mg/dL-> 정상\n",
    "* 전체 레코드 수와 상위 5개 데이터 확인\n",
    "* 데이터 모양 확인\n",
    "* 여성과 남성의 데이터 수 확인\n",
    "* 여성과 남성의 수축기혈압과 확장기혈압의 평균값 확인\n",
    "* 정상 혈압 남자 및 여자 수 확인\n",
    "* 당뇨병 질환(공복혈당 수치 126mg/dL 이상)을 가지고 있는 사람들의 평균 체질량지수"
   ]
  },
  {
   "cell_type": "code",
   "execution_count": 26,
   "metadata": {},
   "outputs": [
    {
     "name": "stdout",
     "output_type": "stream",
     "text": [
      "[1. 2.]\n",
      "510227\n",
      "[[  1.    1.  116.  ...  94.    4.   16.6]\n",
      " [  1.    1.  100.  ...  79.    4.   22.3]\n",
      " [  1.    1.  100.  ...  87.    4.   21.9]\n",
      " ...\n",
      " [  1.   27.  123.  ... 129.    1.   24.6]\n",
      " [  1.   27.  110.  ... 165.    3.   20. ]\n",
      " [  1.   27.  130.  ...  91.    1.   23. ]]\n",
      "124.2799538244742\n",
      "77.61497725522169\n",
      "173595\n",
      "25.168695210981763\n"
     ]
    }
   ],
   "source": [
    "import numpy as np\n",
    "\n",
    "# 데이터 로드\n",
    "data = np.loadtxt(\"국가건강검진_혈압혈당데이터.csv\", delimiter=\",\", skiprows=1, encoding = 'cp949')\n",
    "\n",
    "# # 데이터 모양 확인\n",
    "# print(data.shape)\n",
    "# # 전체 데이터 수 확인\n",
    "# print(data.shape[0])\n",
    "# #상위 5개 데이터 출력\n",
    "# print(data[:5])\n",
    "\n",
    "#하나의 열의 값이 몇가지인지  유니크 , 한 열이 뭐랑 뭐로 나뉘는\n",
    "gender = np.unique(data[:,0])\n",
    "print(gender)\n",
    "\n",
    "# 남성 데이터 수 boolean으로 true면 1 남성이면 true라 1이고 그 값을 다 더하면 데이터 수\n",
    "print(np.sum(data[:,0]==1)) \n",
    "# 남자만 뽑아내는 거\n",
    "man = (data[data[:,0]==1])\n",
    "print(man)\n",
    "\n",
    "# 남성의 수축기 혈압 평균\n",
    "male_sbp_mean = np.mean(data[data[:,0]==1][:,2])\n",
    "print(male_sbp_mean)\n",
    "\n",
    "# 남성의 이완기 혈압 평균\n",
    "male_dbp_mean = np.mean(data[data[:,0]==1][:,3])\n",
    "print(male_dbp_mean)\n",
    "\n",
    "# 정상 혈압 남자 수\n",
    "normal = np.logical_and(data[:,2]<120, data[:,3]<180)\n",
    "nbp = data[normal]\n",
    "print(len(nbp[nbp[:,0]==1]))\n",
    "\n",
    "# 당뇨병 질환(공복혈당 수치 126mg/dL 이상)을 가지고 있는 사람들의 평균 체질량지수\n",
    "diabetes = data[data[:,4]>=126]\n",
    "print(np.mean(diabetes[:,6]))\n"
   ]
  },
  {
   "cell_type": "markdown",
   "metadata": {},
   "source": [
    "# [문제] 시에틀 강수량 데이터 분석\n",
    "- 'Seattle2014.csv' 파일 내용 읽기\n",
    "- 강수량('PRCP')이 많은 날 상위 10일 확인\n",
    "- 1월 강수량만 출력\n",
    "- 1월에 내린 강수량의 합, 평균강수량 확인\n",
    "- 1년동안 강수량이 40미만으로 내린 날이 몇일인가?"
   ]
  },
  {
   "cell_type": "code",
   "execution_count": 102,
   "metadata": {},
   "outputs": [
    {
     "name": "stdout",
     "output_type": "stream",
     "text": [
      "[467 343 333 323 320 277 264 254 221 216]\n",
      "[[20140305      467]\n",
      " [20141128      343]\n",
      " [20140503      333]\n",
      " [20140308      323]\n",
      " [20141022      320]\n",
      " [20140316      277]\n",
      " [20140216      264]\n",
      " [20141030      254]\n",
      " [20140328      221]\n",
      " [20140129      216]]\n",
      "[[20140101        0]\n",
      " [20140102       41]\n",
      " [20140103       15]\n",
      " [20140104        0]\n",
      " [20140105        0]\n",
      " [20140106        3]\n",
      " [20140107      122]\n",
      " [20140108       97]\n",
      " [20140109       58]\n",
      " [20140110       43]\n",
      " [20140111      213]\n",
      " [20140112       15]\n",
      " [20140113        0]\n",
      " [20140114        0]\n",
      " [20140115        0]\n",
      " [20140116        0]\n",
      " [20140117        0]\n",
      " [20140118        0]\n",
      " [20140119        0]\n",
      " [20140120        0]\n",
      " [20140121        0]\n",
      " [20140122        5]\n",
      " [20140123        0]\n",
      " [20140124        0]\n",
      " [20140125        0]\n",
      " [20140126        0]\n",
      " [20140127        0]\n",
      " [20140128       89]\n",
      " [20140129      216]\n",
      " [20140130        0]\n",
      " [20140131       23]]\n"
     ]
    }
   ],
   "source": [
    "import numpy as np\n",
    "\n",
    "# 데이터 로드 dtype 전체다 문자열로 읽는다는 것 숫자 &문자 혼합형 \n",
    "data = np.loadtxt(\"Seattle2014.csv\", delimiter=\",\", dtype=object, skiprows=1)\n",
    "\n",
    "\n",
    "prcp = (data[:, 3].astype('int'))\n",
    "sorted_data = np.sort(prcp)[::-1][:10]\n",
    "print(sorted_data)\n",
    "# 강수량 많은날 상위 10위 날짜도 같이 나오게\n",
    "prcp_data = (data[:, [2,3]].astype('int'))\n",
    "print(prcp_data[prcp_data[:,1].argsort()][::-1][:10]) #한 열을 기준으로 정렬하고 두개다 출력\n",
    "\n",
    "#1월 강수량만 출력\n",
    "jan = data[:,[2,3]].astype(int)\n",
    "water=jan[jan[:,0]<20140201]\n",
    "print(water)"
   ]
  },
  {
   "cell_type": "code",
   "execution_count": 109,
   "metadata": {},
   "outputs": [
    {
     "name": "stdout",
     "output_type": "stream",
     "text": [
      "[  0  41  15   0   0   3 122  97  58  43 213  15   0   0   0   0   0   0\n",
      "   0   0   0   5   0   0   0   0   0  89 216   0  23]\n",
      "940\n",
      "30.322580645161292\n",
      "277\n"
     ]
    }
   ],
   "source": [
    "prcp_data = data[:,[2,3]]\n",
    "prcp_data = np.array([[date[4:6],prcp]for date, prcp in prcp_data])\n",
    "jan = prcp_data[prcp_data[:,0]=='01'][:,1].astype(int)\n",
    "print(jan)\n",
    "\n",
    "water = np.sum(jan)\n",
    "print(water)\n",
    "wateravg = np.mean(jan)\n",
    "print(wateravg)\n",
    "\n",
    "prcp_1 = data[:,3].astype(int)\n",
    "under_40 = prcp_1[prcp_1 < 40]\n",
    "print(len(under_40))"
   ]
  },
  {
   "cell_type": "markdown",
   "metadata": {},
   "source": [
    "# [문제] 영화 평점 분석\n",
    "- 'ratings.dat' 파일 내용 읽기 (데이터 형식: user_id::item_id::rating::timestamp)\n",
    "- 상위 10개 데이터 출력하기\n",
    "- 데이터 정보 확인(크기, 차원)\n",
    "- 전체 데이터 평점 구하기\n",
    "- 사용자 아이디 1인 데이터 출력하기\n",
    "- 사용자 아이디 1인 사람의 평점 평균 구하기\n",
    "- 각 사용자별 평점 구하기 (사용자 ID 수집: ID컬럼에 대한 np.unique() 함수 적용)\n",
    "- 각 사용자별 평균 평점이 4점 이상인 사용자 및 인원수 구하기"
   ]
  },
  {
   "cell_type": "code",
   "execution_count": 141,
   "metadata": {},
   "outputs": [
    {
     "name": "stdout",
     "output_type": "stream",
     "text": [
      "[[        1      1193         5 978300760]\n",
      " [        1       661         3 978302109]\n",
      " [        1       914         3 978301968]\n",
      " [        1      3408         4 978300275]\n",
      " [        1      2355         5 978824291]\n",
      " [        1      1197         3 978302268]\n",
      " [        1      1287         5 978302039]\n",
      " [        1      2804         5 978300719]\n",
      " [        1       594         4 978302268]\n",
      " [        1       919         4 978301368]]\n",
      "(1000209, 4)\n",
      "2\n",
      "평균평점 3.581564453029317\n",
      "[[        1      1193         5 978300760]\n",
      " [        1       661         3 978302109]\n",
      " [        1       914         3 978301968]\n",
      " [        1      3408         4 978300275]\n",
      " [        1      2355         5 978824291]\n",
      " [        1      1197         3 978302268]\n",
      " [        1      1287         5 978302039]\n",
      " [        1      2804         5 978300719]\n",
      " [        1       594         4 978302268]\n",
      " [        1       919         4 978301368]\n",
      " [        1       595         5 978824268]\n",
      " [        1       938         4 978301752]\n",
      " [        1      2398         4 978302281]\n",
      " [        1      2918         4 978302124]\n",
      " [        1      1035         5 978301753]\n",
      " [        1      2791         4 978302188]\n",
      " [        1      2687         3 978824268]\n",
      " [        1      2018         4 978301777]\n",
      " [        1      3105         5 978301713]\n",
      " [        1      2797         4 978302039]\n",
      " [        1      2321         3 978302205]\n",
      " [        1       720         3 978300760]\n",
      " [        1      1270         5 978300055]\n",
      " [        1       527         5 978824195]\n",
      " [        1      2340         3 978300103]\n",
      " [        1        48         5 978824351]\n",
      " [        1      1097         4 978301953]\n",
      " [        1      1721         4 978300055]\n",
      " [        1      1545         4 978824139]\n",
      " [        1       745         3 978824268]\n",
      " [        1      2294         4 978824291]\n",
      " [        1      3186         4 978300019]\n",
      " [        1      1566         4 978824330]\n",
      " [        1       588         4 978824268]\n",
      " [        1      1907         4 978824330]\n",
      " [        1       783         4 978824291]\n",
      " [        1      1836         5 978300172]\n",
      " [        1      1022         5 978300055]\n",
      " [        1      2762         4 978302091]\n",
      " [        1       150         5 978301777]\n",
      " [        1         1         5 978824268]\n",
      " [        1      1961         5 978301590]\n",
      " [        1      1962         4 978301753]\n",
      " [        1      2692         4 978301570]\n",
      " [        1       260         4 978300760]\n",
      " [        1      1028         5 978301777]\n",
      " [        1      1029         5 978302205]\n",
      " [        1      1207         4 978300719]\n",
      " [        1      2028         5 978301619]\n",
      " [        1       531         4 978302149]\n",
      " [        1      3114         4 978302174]\n",
      " [        1       608         4 978301398]\n",
      " [        1      1246         4 978302091]]\n",
      "4.188679245283019\n",
      "1 4.188679245283019\n",
      "2 3.7131782945736433\n",
      "3 3.9019607843137254\n",
      "4 4.190476190476191\n",
      "5 3.1464646464646466\n",
      "6 3.9014084507042255\n",
      "7 4.32258064516129\n",
      "8 3.884892086330935\n",
      "9 3.7358490566037736\n",
      "10 4.114713216957606\n"
     ]
    }
   ],
   "source": [
    "import numpy as np\n",
    "\n",
    "# 데이터 정보 확인(크기, 차원)\n",
    "data = np.loadtxt('ratings.dat', delimiter=':', dtype=np.int64)\n",
    "print(data[:10])\n",
    "print(data.shape)\n",
    "print(data.ndim)\n",
    "\n",
    "# 전체 데이터 평균 평점 구하기\n",
    "print('평균평점',np.mean(data[:,2]))\n",
    "\n",
    "# 사용자 아이디 1인데이터 출력하기\n",
    "only_id = data[:, 0]==1\n",
    "print(data[only_id])\n",
    "\n",
    "# 사용자 아이디 1인 사람의 평균 평점구하기a\n",
    "mean =np.mean(data[only_id][:,2])\n",
    "print(mean)\n",
    "\n",
    "# 각 사용자별 평균 평점 구하기\n",
    "ids = np.unique(data[:, 0])\n",
    "user_avg_rating = [[id, np.mean(data[data[:, 0] == id][:, 2].astype(float))] for id in ids]\n",
    "\n",
    "for id, rating in user_avg_rating[:10]:\n",
    "    print(id, rating)"
   ]
  },
  {
   "cell_type": "code",
   "execution_count": 142,
   "metadata": {},
   "outputs": [
    {
     "name": "stdout",
     "output_type": "stream",
     "text": [
      "1544\n"
     ]
    }
   ],
   "source": [
    "user_avg_rating = np.array(user_avg_rating)\n",
    "print(np.sum(user_avg_rating[:,1]>=4))"
   ]
  }
 ],
 "metadata": {
  "kernelspec": {
   "display_name": "Python 3 (ipykernel)",
   "language": "python",
   "name": "python3"
  },
  "language_info": {
   "codemirror_mode": {
    "name": "ipython",
    "version": 3
   },
   "file_extension": ".py",
   "mimetype": "text/x-python",
   "name": "python",
   "nbconvert_exporter": "python",
   "pygments_lexer": "ipython3",
   "version": "3.11.7"
  },
  "toc": {
   "base_numbering": 1,
   "nav_menu": {},
   "number_sections": true,
   "sideBar": true,
   "skip_h1_title": false,
   "title_cell": "Table of Contents",
   "title_sidebar": "Contents",
   "toc_cell": false,
   "toc_position": {
    "height": "calc(100% - 180px)",
    "left": "10px",
    "top": "150px",
    "width": "236px"
   },
   "toc_section_display": true,
   "toc_window_display": false
  }
 },
 "nbformat": 4,
 "nbformat_minor": 4
}
